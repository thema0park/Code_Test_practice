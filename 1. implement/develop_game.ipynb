{
 "cells": [
  {
   "cell_type": "code",
   "execution_count": 5,
   "id": "korean-stability",
   "metadata": {},
   "outputs": [],
   "source": [
    "import sys"
   ]
  },
  {
   "cell_type": "code",
   "execution_count": 13,
   "id": "improving-president",
   "metadata": {},
   "outputs": [
    {
     "name": "stdout",
     "output_type": "stream",
     "text": [
      "4 4\n"
     ]
    }
   ],
   "source": [
    "n, m = map(int,input().split())"
   ]
  },
  {
   "cell_type": "code",
   "execution_count": 14,
   "id": "confused-generator",
   "metadata": {},
   "outputs": [
    {
     "name": "stdout",
     "output_type": "stream",
     "text": [
      "1 1 0\n"
     ]
    }
   ],
   "source": [
    "d = [[0]*m for _ in range(n)]\n",
    "x, y, direction = map(int,input().split())\n",
    "d[x][y] = 1"
   ]
  },
  {
   "cell_type": "code",
   "execution_count": 16,
   "id": "electrical-lesson",
   "metadata": {},
   "outputs": [
    {
     "name": "stdout",
     "output_type": "stream",
     "text": [
      "1 1 1 1\n",
      "1 0 0 1\n",
      "1 1 0 1\n",
      "1 1 1 1\n"
     ]
    }
   ],
   "source": [
    "array = []\n",
    "for i in range(n):\n",
    "    array.append(list(map(int, input().split())))"
   ]
  },
  {
   "cell_type": "code",
   "execution_count": 17,
   "id": "solid-skiing",
   "metadata": {},
   "outputs": [],
   "source": [
    "dx = [-1, 0 , 1 , 0]\n",
    "dy = [0, 1, 0, -1]"
   ]
  },
  {
   "cell_type": "code",
   "execution_count": 18,
   "id": "outdoor-procedure",
   "metadata": {},
   "outputs": [],
   "source": [
    "def turn_left():\n",
    "    global direction\n",
    "    direction -= 1\n",
    "    if direction == -1:\n",
    "        direction = 3"
   ]
  },
  {
   "cell_type": "code",
   "execution_count": 19,
   "id": "three-queens",
   "metadata": {},
   "outputs": [],
   "source": [
    "count = 1\n",
    "turn_time = 0\n",
    "while 1:\n",
    "    turn_left()\n",
    "    nx = x+dx[direction]\n",
    "    ny = y+dy[direction]\n",
    "    if d[nx][ny] == 0 and array[nx][ny] == 0:\n",
    "        d[nx][ny] = 1\n",
    "        x = nx\n",
    "        y = ny\n",
    "        count += 1\n",
    "        turn_time = 0\n",
    "        continue\n",
    "    else :\n",
    "        turn_time += 1\n",
    "        \n",
    "    if turn_time == 4:\n",
    "        nx = x - dx[direction]\n",
    "        ny = y - dy[direction]\n",
    "        if array[nx][ny] == 0:\n",
    "            x = nx\n",
    "            y = ny\n",
    "        else:\n",
    "            break\n",
    "        turn_time = 0"
   ]
  },
  {
   "cell_type": "code",
   "execution_count": 20,
   "id": "grateful-lunch",
   "metadata": {},
   "outputs": [
    {
     "data": {
      "text/plain": [
       "3"
      ]
     },
     "execution_count": 20,
     "metadata": {},
     "output_type": "execute_result"
    }
   ],
   "source": [
    "count"
   ]
  },
  {
   "cell_type": "code",
   "execution_count": 21,
   "id": "accepted-favorite",
   "metadata": {},
   "outputs": [
    {
     "name": "stdout",
     "output_type": "stream",
     "text": [
      "4 4\n",
      "1 1 0\n",
      "1 1 1 1\n",
      "1 0 0 1\n",
      "1 1 0 1\n",
      "1 1 1 1\n",
      "3\n"
     ]
    }
   ],
   "source": [
    "import sys\n",
    "n, m = map(int, input().split())\n",
    "x, y, direction = map(int, input().split())\n",
    "d = [[0]*m for i in range(0,n)]\n",
    "d[x][y] = 1\n",
    "array = []\n",
    "for i in range(0, n):\n",
    "    array.append(list(map(int, input().split())))\n",
    "\n",
    "dx = [-1, 0, 1, 0]\n",
    "dy = [0, 1, 0, -1]\n",
    "\n",
    "def turn_left():\n",
    "    global direction\n",
    "    direction -= 1\n",
    "    if direction == -1:\n",
    "        direction = 3\n",
    "        \n",
    "count = 1\n",
    "turn = 0\n",
    "\n",
    "while 1:\n",
    "    turn_left()\n",
    "    nx = x + dx[direction]\n",
    "    ny = y + dy[direction]\n",
    "    \n",
    "    if d[nx][ny] == 0 and array[nx][ny] == 0:\n",
    "        d[nx][ny] = 1\n",
    "        x = nx\n",
    "        y = ny\n",
    "        count += 1\n",
    "        turn = 0\n",
    "        continue\n",
    "    else:\n",
    "        turn += 1\n",
    "        \n",
    "    if turn == 4:\n",
    "        nx = x - dx[direction]\n",
    "        ny = y - dy[direction]\n",
    "        if array[nx][ny] == 0:\n",
    "            x = nx\n",
    "            y = ny\n",
    "        else:\n",
    "            break\n",
    "        turn = 0\n",
    "print(count)"
   ]
  },
  {
   "cell_type": "code",
   "execution_count": null,
   "id": "fancy-logging",
   "metadata": {},
   "outputs": [],
   "source": []
  }
 ],
 "metadata": {
  "kernelspec": {
   "display_name": "Python 3",
   "language": "python",
   "name": "python3"
  },
  "language_info": {
   "codemirror_mode": {
    "name": "ipython",
    "version": 3
   },
   "file_extension": ".py",
   "mimetype": "text/x-python",
   "name": "python",
   "nbconvert_exporter": "python",
   "pygments_lexer": "ipython3",
   "version": "3.7.9"
  }
 },
 "nbformat": 4,
 "nbformat_minor": 5
}
